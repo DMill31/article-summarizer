{
 "cells": [
  {
   "cell_type": "markdown",
   "metadata": {},
   "source": [
    "# Web Mining and Applied NLP (44-620)\n",
    "\n",
    "## Final Project: Article Summarizer\n",
    "\n",
    "### Student Name: Dan Miller\n",
    "\n",
    "### Github Link: [DMill31](https://github.com/DMill31/article-summarizer)\n",
    "\n",
    "Perform the tasks described in the Markdown cells below.  When you have completed the assignment make sure your code cells have all been run (and have output beneath them) and ensure you have committed and pushed ALL of your changes to your assignment repository.\n",
    "\n",
    "You should bring in code from previous assignments to help you answer the questions below.\n",
    "\n",
    "Every question that requires you to write code will have a code cell underneath it; you may either write your entire solution in that cell or write it in a python file (`.py`), then import and run the appropriate code to answer the question."
   ]
  },
  {
   "cell_type": "code",
   "execution_count": 127,
   "metadata": {},
   "outputs": [
    {
     "name": "stdout",
     "output_type": "stream",
     "text": [
      "Package                   Version\n",
      "------------------------- --------------\n",
      "annotated-types           0.7.0\n",
      "anyio                     4.9.0\n",
      "argon2-cffi               25.1.0\n",
      "argon2-cffi-bindings      25.1.0\n",
      "arrow                     1.3.0\n",
      "asttokens                 3.0.0\n",
      "async-lru                 2.0.5\n",
      "attrs                     25.3.0\n",
      "babel                     2.17.0\n",
      "beautifulsoup4            4.13.4\n",
      "bleach                    6.2.0\n",
      "blis                      1.3.0\n",
      "catalogue                 2.0.10\n",
      "certifi                   2025.7.14\n",
      "cffi                      1.17.1\n",
      "charset-normalizer        3.4.2\n",
      "click                     8.2.1\n",
      "cloudpathlib              0.21.1\n",
      "colorama                  0.4.6\n",
      "comm                      0.2.3\n",
      "comtypes                  1.4.11\n",
      "confection                0.1.5\n",
      "contourpy                 1.3.3\n",
      "cycler                    0.12.1\n",
      "cymem                     2.0.11\n",
      "debugpy                   1.8.15\n",
      "decorator                 5.2.1\n",
      "defusedxml                0.7.1\n",
      "en_core_web_sm            3.8.0\n",
      "executing                 2.2.0\n",
      "fastjsonschema            2.21.1\n",
      "fonttools                 4.59.0\n",
      "fqdn                      1.5.1\n",
      "gitdb                     4.0.12\n",
      "GitPython                 3.1.45\n",
      "h11                       0.16.0\n",
      "html5lib                  1.1\n",
      "httpcore                  1.0.9\n",
      "httpx                     0.28.1\n",
      "idna                      3.10\n",
      "ipykernel                 6.30.0\n",
      "ipython                   9.4.0\n",
      "ipython_pygments_lexers   1.1.1\n",
      "ipywidgets                8.1.7\n",
      "isoduration               20.11.0\n",
      "jedi                      0.19.2\n",
      "Jinja2                    3.1.6\n",
      "joblib                    1.5.1\n",
      "json5                     0.12.0\n",
      "jsonpointer               3.0.0\n",
      "jsonschema                4.25.0\n",
      "jsonschema-specifications 2025.4.1\n",
      "jupyter                   1.1.1\n",
      "jupyter_client            8.6.3\n",
      "jupyter-console           6.6.3\n",
      "jupyter_core              5.8.1\n",
      "jupyter-events            0.12.0\n",
      "jupyter-lsp               2.2.6\n",
      "jupyter_server            2.16.0\n",
      "jupyter-server-mathjax    0.2.6\n",
      "jupyter_server_terminals  0.5.3\n",
      "jupyterlab                4.4.5\n",
      "jupyterlab_git            0.51.2\n",
      "jupyterlab_pygments       0.3.0\n",
      "jupyterlab_server         2.27.3\n",
      "jupyterlab_widgets        3.0.15\n",
      "kiwisolver                1.4.8\n",
      "langcodes                 3.5.0\n",
      "language_data             1.3.0\n",
      "lark                      1.2.2\n",
      "loguru                    0.7.3\n",
      "marisa-trie               1.2.1\n",
      "markdown-it-py            3.0.0\n",
      "MarkupSafe                3.0.2\n",
      "matplotlib                3.10.5\n",
      "matplotlib-inline         0.1.7\n",
      "mdurl                     0.1.2\n",
      "mistune                   3.1.3\n",
      "murmurhash                1.0.13\n",
      "nbclient                  0.10.2\n",
      "nbconvert                 7.16.6\n",
      "nbdime                    4.0.2\n",
      "nbformat                  5.10.4\n",
      "nest-asyncio              1.6.0\n",
      "nltk                      3.9.1\n",
      "notebook                  7.4.4\n",
      "notebook_shim             0.2.4\n",
      "numpy                     2.3.2\n",
      "overrides                 7.7.0\n",
      "packaging                 25.0\n",
      "pandas                    2.3.1\n",
      "pandocfilters             1.5.1\n",
      "parso                     0.8.4\n",
      "pexpect                   4.9.0\n",
      "pillow                    11.3.0\n",
      "pip                       25.2\n",
      "platformdirs              4.3.8\n",
      "preshed                   3.0.10\n",
      "prometheus_client         0.22.1\n",
      "prompt_toolkit            3.0.51\n",
      "psutil                    7.0.0\n",
      "ptyprocess                0.7.0\n",
      "pure_eval                 0.2.3\n",
      "pycparser                 2.22\n",
      "pydantic                  2.11.7\n",
      "pydantic_core             2.33.2\n",
      "Pygments                  2.19.2\n",
      "pyparsing                 3.2.3\n",
      "pypiwin32                 223\n",
      "python-dateutil           2.9.0.post0\n",
      "python-json-logger        3.3.0\n",
      "pyttsx3                   2.99\n",
      "pytz                      2025.2\n",
      "pywin32                   311\n",
      "pywinpty                  2.0.15\n",
      "PyYAML                    6.0.2\n",
      "pyzmq                     27.0.0\n",
      "referencing               0.36.2\n",
      "regex                     2025.7.34\n",
      "requests                  2.32.4\n",
      "rfc3339-validator         0.1.4\n",
      "rfc3986-validator         0.1.1\n",
      "rfc3987-syntax            1.1.0\n",
      "rich                      14.1.0\n",
      "rpds-py                   0.26.0\n",
      "seaborn                   0.13.2\n",
      "Send2Trash                1.8.3\n",
      "setuptools                80.9.0\n",
      "shellingham               1.5.4\n",
      "six                       1.17.0\n",
      "smart_open                7.3.0.post1\n",
      "smmap                     5.0.2\n",
      "sniffio                   1.3.1\n",
      "soupsieve                 2.7\n",
      "spacy                     3.8.7\n",
      "spacy-legacy              3.0.12\n",
      "spacy-loggers             1.0.5\n",
      "spacytextblob             5.0.0\n",
      "srsly                     2.5.1\n",
      "stack-data                0.6.3\n",
      "terminado                 0.18.1\n",
      "textblob                  0.19.0\n",
      "thinc                     8.3.6\n",
      "tinycss2                  1.4.0\n",
      "tornado                   6.5.1\n",
      "tqdm                      4.67.1\n",
      "traitlets                 5.14.3\n",
      "typer                     0.16.0\n",
      "types-python-dateutil     2.9.0.20250708\n",
      "typing_extensions         4.14.1\n",
      "typing-inspection         0.4.1\n",
      "tzdata                    2025.2\n",
      "uri-template              1.3.0\n",
      "urllib3                   2.5.0\n",
      "wasabi                    1.1.3\n",
      "wcwidth                   0.2.13\n",
      "weasel                    0.4.1\n",
      "webcolors                 24.11.1\n",
      "webencodings              0.5.1\n",
      "websocket-client          1.8.0\n",
      "wheel                     0.45.1\n",
      "widgetsnbextension        4.0.14\n",
      "win32_setctime            1.2.0\n",
      "wrapt                     1.17.2\n",
      "All prereqs installed.\n"
     ]
    }
   ],
   "source": [
    "from collections import Counter\n",
    "import pickle\n",
    "import requests\n",
    "import spacy\n",
    "from bs4 import BeautifulSoup\n",
    "import matplotlib.pyplot as plt\n",
    "from spacytextblob.spacytextblob import SpacyTextBlob\n",
    "\n",
    "!pip list\n",
    "\n",
    "print('All prereqs installed.')"
   ]
  },
  {
   "cell_type": "markdown",
   "metadata": {},
   "source": [
    "## Question 1."
   ]
  },
  {
   "cell_type": "markdown",
   "metadata": {},
   "source": [
    "1. Find on the internet an article or blog post about a topic that interests you and you are able to get the text for using the technologies we have applied in the course.  Get the html for the article and store it in a file (which you must submit with your project)"
   ]
  },
  {
   "cell_type": "code",
   "execution_count": 128,
   "metadata": {},
   "outputs": [
    {
     "name": "stdout",
     "output_type": "stream",
     "text": [
      "Our perception of what it means to actually live has become skewed. People nowadays tend to live vicariously through others’ lives instead of living for themselves. We tend to pay the most attention to the people’s lives that seem effortless yet carefully constructed. We hear constantly about how we need to become better people. More confident, more good looking, more intelligent, etc. And while we may put those things into practice, the outward view of them is a deception or can only last so lo\n"
     ]
    }
   ],
   "source": [
    "url = 'https://www.mhsmentor.com/16888/opinions/performative-existence-not-a-good-way-to-live/'\n",
    "\n",
    "response = requests.get(url)\n",
    "parser = 'html.parser'\n",
    "\n",
    "soup = BeautifulSoup(response.text, parser)\n",
    "\n",
    "# Get the title\n",
    "title_tag = soup.find('h1', class_= 'sno-story-headline')\n",
    "title = title_tag.get_text(strip=True) if title_tag else None\n",
    "\n",
    "# Get the body content\n",
    "body_container = soup.find('div', class_='entry-content') or soup.find('div', class_='post-content') or soup.find('article')\n",
    "if not body_container:\n",
    "    body_paragraphs = soup.find_all('p')\n",
    "else:\n",
    "    body_paragraphs = body_container.find_all('p')\n",
    "\n",
    "# Create body with paragraphs 1 through 8\n",
    "if len(body_paragraphs) > 8:\n",
    "    body_paragraphs = body_paragraphs[:8]\n",
    "\n",
    "\n",
    "# Join the text of the paragraphs into a single string\n",
    "body = '\\n\\n'.join(p.get_text(strip=True) for p in body_paragraphs if p.get_text(strip=True))\n",
    "\n",
    "# Print the first 500 characters of the body\n",
    "print(body[:500])\n",
    "\n",
    "# Create article\n",
    "article = {\n",
    "    'title': title,\n",
    "    'body': body,\n",
    "    'url': url\n",
    "}\n",
    "\n",
    "# Dump the article to a .pkl\n",
    "with open('article_body.pkl', 'wb') as f:\n",
    "    pickle.dump(article, f)\n"
   ]
  },
  {
   "cell_type": "markdown",
   "metadata": {},
   "source": [
    "## Question 2."
   ]
  },
  {
   "cell_type": "markdown",
   "metadata": {},
   "source": [
    "2. Read in your article's html source from the file you created in question 1 and do sentiment analysis on the article/post's text (use `.get_text()`).  Print the polarity score with an appropriate label.  Additionally print the number of sentences in the original article (with an appropriate label)"
   ]
  },
  {
   "cell_type": "code",
   "execution_count": 129,
   "metadata": {},
   "outputs": [
    {
     "name": "stdout",
     "output_type": "stream",
     "text": [
      "Number of sentences in body: 31\n",
      "Polarity of body: 0.23463976499690786\n"
     ]
    }
   ],
   "source": [
    "with open('article_body.pkl', 'rb') as f:\n",
    "    article = pickle.load(f)\n",
    "\n",
    "body = article['body']\n",
    "\n",
    "nlp = spacy.load('en_core_web_sm')\n",
    "nlp.add_pipe('spacytextblob')\n",
    "\n",
    "doc = nlp(body)\n",
    "\n",
    "# Print the number of sentences in the body\n",
    "sentences = list(doc.sents)\n",
    "print(f'Number of sentences in body: {len(sentences)}')\n",
    "\n",
    "# Print polarity of body\n",
    "polarity = doc._.blob.polarity\n",
    "print(f'Polarity of body: {polarity}')\n",
    "\n"
   ]
  },
  {
   "cell_type": "markdown",
   "metadata": {},
   "source": [
    "## Question 3."
   ]
  },
  {
   "cell_type": "markdown",
   "metadata": {},
   "source": [
    "3. Load the article text into a trained `spaCy` pipeline, and determine the 5 most frequent tokens (converted to lower case).  Print the common tokens with an appropriate label.  Additionally, print the tokens their frequencies (with appropriate labels)"
   ]
  },
  {
   "cell_type": "code",
   "execution_count": 130,
   "metadata": {},
   "outputs": [
    {
     "name": "stdout",
     "output_type": "stream",
     "text": [
      "Top 5 most common tokens: [('people', 8), ('things', 7), ('good', 5), ('think', 4), ('life', 4)]\n"
     ]
    }
   ],
   "source": [
    "def we_care_about(token):\n",
    "    return not (token.is_space or token.is_punct or token.is_stop)\n",
    "\n",
    "interesting_tokens = [token.text.lower() for token in doc if we_care_about(token)]\n",
    "\n",
    "token_freq = Counter(map(str, interesting_tokens))\n",
    "print(f'Top 5 most common tokens: {token_freq.most_common(5)}')"
   ]
  },
  {
   "cell_type": "markdown",
   "metadata": {},
   "source": [
    "## Question 4."
   ]
  },
  {
   "cell_type": "markdown",
   "metadata": {},
   "source": [
    "4. Load the article text into a trained `spaCy` pipeline, and determine the 5 most frequent lemmas (converted to lower case).  Print the common lemmas with an appropriate label.  Additionally, print the lemmas with their frequencies (with appropriate labels)."
   ]
  },
  {
   "cell_type": "code",
   "execution_count": 131,
   "metadata": {},
   "outputs": [
    {
     "name": "stdout",
     "output_type": "stream",
     "text": [
      "Top 5 most common lemmas: [('thing', 9), ('people', 8), ('life', 6), ('good', 5), ('think', 5)]\n"
     ]
    }
   ],
   "source": [
    "interesting_lemmas = [token.lemma_.lower() for token in doc if we_care_about(token)]\n",
    "\n",
    "lemma_freq = Counter(map(str, interesting_lemmas))\n",
    "print(f'Top 5 most common lemmas: {lemma_freq.most_common(5)}')"
   ]
  },
  {
   "cell_type": "markdown",
   "metadata": {},
   "source": [
    "## Question 5."
   ]
  },
  {
   "cell_type": "markdown",
   "metadata": {},
   "source": [
    "5. Make a list containing the scores (using tokens) of every sentence in the article, and plot a histogram with appropriate titles and axis labels of the scores. From your histogram, what seems to be the most common range of scores (put the answer in a comment after your code)?"
   ]
  },
  {
   "cell_type": "code",
   "execution_count": 132,
   "metadata": {},
   "outputs": [
    {
     "data": {
      "image/png": "[encoded data removed]",
      "text/plain": [
       "<Figure size 640x480 with 1 Axes>"
      ]
     },
     "metadata": {},
     "output_type": "display_data"
    }
   ],
   "source": [
    "def score_sentence_by_token(sentence, interesting_tokens):\n",
    "    \"\"\"\n",
    "    Score a sentence based on the frequency of interesting tokens.\n",
    "    Args:\n",
    "        sentence (spacy.tokens.Span): The sentence to score.\n",
    "        interesting_tokens (set): A set of tokens considered interesting.\n",
    "    \n",
    "    Returns the number of times that any of the interesting tokens appear in the sentence divided by the number of words in the sentence.\n",
    "    \"\"\"\n",
    "    doc = nlp(sentence)\n",
    "    words = [token.text.lower() for token in doc if we_care_about(token)]\n",
    "    if not words:\n",
    "        return 0\n",
    "    interesting_words = sum(1 for word in words if word in interesting_tokens)\n",
    "    return interesting_words / len(words)\n",
    "\n",
    "token_scores = []\n",
    "for sent in doc.sents:\n",
    "    token_scores.append(score_sentence_by_token(sent.text, [t[0] for t in token_freq.most_common(5)]))\n",
    "\n",
    "# Create a histogram of the token scores\n",
    "plt.hist(token_scores, bins=20, edgecolor='black')\n",
    "plt.title('Distribution of Token Scores')\n",
    "plt.xlabel('Token Score')\n",
    "plt.ylabel('Frequency')\n",
    "plt.show()\n",
    "\n",
    "# Just less than 40% of the sentences have a token score of 0.0\n",
    "# The most common range of token scores seems to be between 0.0 and 0.2, with less than 5 scoring higher"
   ]
  },
  {
   "cell_type": "markdown",
   "metadata": {},
   "source": [
    "## Question 6."
   ]
  },
  {
   "cell_type": "markdown",
   "metadata": {},
   "source": [
    "6. Make a list containing the scores (using lemmas) of every sentence in the article, and plot a histogram with appropriate titles and axis labels of the scores.  From your histogram, what seems to be the most common range of scores (put the answer in a comment after your code)?"
   ]
  },
  {
   "cell_type": "code",
   "execution_count": 133,
   "metadata": {},
   "outputs": [
    {
     "data": {
      "image/png": "[encoded data removed]",
      "text/plain": [
       "<Figure size 640x480 with 1 Axes>"
      ]
     },
     "metadata": {},
     "output_type": "display_data"
    }
   ],
   "source": [
    "def score_sentence_by_lemma(sentence, interesting_lemmas):\n",
    "    \"\"\"\n",
    "    Score a sentence based on the frequency of interesting lemmas.\n",
    "    Args:\n",
    "        sentence (spacy.tokens.Span): The sentence to score.\n",
    "        interesting_lemmas (set): A set of lemmas considered interesting.\n",
    "    \n",
    "    Returns the number of times that any of the interesting lemmas appear in the sentence divided by the number of words in the sentence.\n",
    "    \"\"\"\n",
    "    doc = nlp(sentence)\n",
    "    lemmas = [token.lemma_.lower() for token in doc if we_care_about(token)]\n",
    "    if not lemmas:\n",
    "        return 0\n",
    "    count = sum(1 for lemma in lemmas if lemma in interesting_lemmas)\n",
    "    return count / len(lemmas)\n",
    "\n",
    "lemma_scores = []\n",
    "for sent in doc.sents:\n",
    "    lemma_scores.append(score_sentence_by_lemma(sent.text, [l[0] for l in lemma_freq.most_common(5)]))\n",
    "\n",
    "# Create a histogram of the lemma scores\n",
    "plt.hist(lemma_scores, bins=20, edgecolor='black')\n",
    "plt.title('Distribution of Lemma Scores')\n",
    "plt.xlabel('Lemma Score')\n",
    "plt.ylabel('Frequency')\n",
    "plt.show()\n",
    "\n",
    "# Only about 30% of the sentences have a lemma score of 0.0\n",
    "# The most common range of lemma scores seems to be between 0.0 and 0.25"
   ]
  },
  {
   "cell_type": "markdown",
   "metadata": {},
   "source": [
    "## Question 7."
   ]
  },
  {
   "cell_type": "markdown",
   "metadata": {},
   "source": [
    "7. Using the histograms from questions 5 and 6, decide a \"cutoff\" score for tokens and lemmas such that fewer than half the sentences would have a score greater than the cutoff score.  Record the scores in this Markdown cell\n",
    "\n",
    "* Cutoff Score (tokens): 0.2\n",
    "* Cutoff Score (lemmas): 0.225\n",
    "\n",
    "Feel free to change these scores as you generate your summaries.  Ideally, we're shooting for at least 6 sentences for our summary, but don't want more than 10 (these numbers are rough estimates; they depend on the length of your article)."
   ]
  },
  {
   "cell_type": "markdown",
   "metadata": {},
   "source": [
    "## Question 8."
   ]
  },
  {
   "cell_type": "markdown",
   "metadata": {},
   "source": [
    "8. Create a summary of the article by going through every sentence in the article and adding it to an (initially) empty list if its score (based on tokens) is greater than the cutoff score you identified in question 8.  If your loop variable is named `sent`, you may find it easier to add `sent.text.strip()` to your list of sentences.  Print the summary (I would cleanly generate the summary text by `join`ing the strings in your list together with a space (`' '.join(sentence_list)`)."
   ]
  },
  {
   "cell_type": "code",
   "execution_count": 134,
   "metadata": {},
   "outputs": [
    {
     "name": "stdout",
     "output_type": "stream",
     "text": [
      "It’s unreasonable to think that life can always be steady, but I think that when you’ve genuinely healed and found out what “triggers” you, it becomes a lot easier to catch yourself when you fall.\n",
      "\n",
      "I hear lots of people complain about their life without even taking a split second to have some gratitude for what they already have.\n",
      "\n",
      "Another thing is that we often don’t realize how good things are until they’re in the rear view mirror.\n",
      "\n",
      "People regularly say things like “I wish I was born in the ‘90s; everyone seemed happier back then.”\n",
      "\n",
      "And regardless if what they’re saying is true, it’s almost dismissive to all the good things that are happening around us in real time.\n",
      "\n",
      "Nothing is as significant as we think it is, so stop making a huge deal out of little things.\n",
      "\n",
      "And if you’re really feeling good, order for yourself.\n"
     ]
    }
   ],
   "source": [
    "sentence_list = []\n",
    "for sent in doc.sents:\n",
    "    token_score = score_sentence_by_token(sent.text, [t[0] for t in token_freq.most_common(5)])\n",
    "    if token_score > 0.2:\n",
    "        sentence_list.append(sent.text.strip())\n",
    "\n",
    "# Join the strings in the list together and print\n",
    "summary = '\\n\\n'.join(sentence_list)\n",
    "print(summary)"
   ]
  },
  {
   "cell_type": "markdown",
   "metadata": {},
   "source": [
    "## Question 9."
   ]
  },
  {
   "cell_type": "markdown",
   "metadata": {},
   "source": [
    "9. Print the polarity score of your summary you generated with the token scores (with an appropriate label). Additionally, print the number of sentences in the summarized article."
   ]
  },
  {
   "cell_type": "code",
   "execution_count": 135,
   "metadata": {},
   "outputs": [
    {
     "name": "stdout",
     "output_type": "stream",
     "text": [
      "Number of sentences in summary: 7\n",
      "Polarity of summary: 0.28601190476190474\n"
     ]
    }
   ],
   "source": [
    "# Print the number of sentences in the summary\n",
    "print(f'Number of sentences in summary: {len(sentence_list)}')\n",
    "\n",
    "# Find the polarity of the summary\n",
    "summary_doc = nlp(summary)\n",
    "print(f'Polarity of summary: {summary_doc._.blob.polarity}')"
   ]
  },
  {
   "cell_type": "markdown",
   "metadata": {},
   "source": [
    "## Question 10."
   ]
  },
  {
   "cell_type": "markdown",
   "metadata": {},
   "source": [
    "10. Create a summary of the article by going through every sentence in the article and adding it to an (initially) empty list if its score (based on lemmas) is greater than the cutoff score you identified in question 8.  If your loop variable is named `sent`, you may find it easier to add `sent.text.strip()` to your list of sentences.  Print the summary (I would cleanly generate the summary text by `join`ing the strings in your list together with a space (`' '.join(sentence_list)`)."
   ]
  },
  {
   "cell_type": "code",
   "execution_count": 136,
   "metadata": {},
   "outputs": [
    {
     "name": "stdout",
     "output_type": "stream",
     "text": [
      "People nowadays tend to live vicariously through others’ lives instead of living for themselves.\n",
      "\n",
      "We tend to pay the most attention to the people’s lives that seem effortless yet carefully constructed.\n",
      "\n",
      "It’s unreasonable to think that life can always be steady, but I think that when you’ve genuinely healed and found out what “triggers” you, it becomes a lot easier to catch yourself when you fall.\n",
      "\n",
      "Another thing is that we often don’t realize how good things are until they’re in the rear view mirror.\n",
      "\n",
      "People regularly say things like “I wish I was born in the ‘90s; everyone seemed happier back then.”\n",
      "\n",
      "Nothing is as significant as we think it is, so stop making a huge deal out of little things.\n",
      "\n",
      "And if you’re really feeling good, order for yourself.\n",
      "\n",
      "The right thing will never pass you by.\n"
     ]
    }
   ],
   "source": [
    "sentence_list = []\n",
    "for sent in doc.sents:\n",
    "    lemma_score = score_sentence_by_lemma(sent.text, [l[0] for l in lemma_freq.most_common(5)])\n",
    "    if lemma_score > 0.225:\n",
    "        sentence_list.append(sent.text.strip())\n",
    "\n",
    "# Join the strings in the list together and print\n",
    "summary = '\\n\\n'.join(sentence_list)\n",
    "print(summary)"
   ]
  },
  {
   "cell_type": "markdown",
   "metadata": {},
   "source": [
    "## Question 11."
   ]
  },
  {
   "cell_type": "markdown",
   "metadata": {},
   "source": [
    "11. Print the polarity score of your summary you generated with the lemma scores (with an appropriate label). Additionally, print the number of sentences in the summarized article."
   ]
  },
  {
   "cell_type": "code",
   "execution_count": 137,
   "metadata": {},
   "outputs": [
    {
     "name": "stdout",
     "output_type": "stream",
     "text": [
      "Number of sentences in summary: 8\n",
      "Polarity of summary: 0.2554460420531849\n"
     ]
    }
   ],
   "source": [
    "# Print the number of sentences in the summary\n",
    "print(f'Number of sentences in summary: {len(sentence_list)}')\n",
    "\n",
    "# Find the polarity of the summary\n",
    "summary_doc = nlp(summary)\n",
    "print(f'Polarity of summary: {summary_doc._.blob.polarity}')"
   ]
  },
  {
   "cell_type": "markdown",
   "metadata": {},
   "source": [
    "## Question 12."
   ]
  },
  {
   "cell_type": "markdown",
   "metadata": {},
   "source": [
    "12.  Compare your polarity scores of your summaries to the polarity scores of the initial article.  Is there a difference?  Why do you think that may or may not be?.  Answer in this Markdown cell.  \n",
    "\n",
    "- The polarity score of the inital article is: 0.23\n",
    "- The token polarity score of the summary is: 0.28\n",
    "- The lemma polarity score of the summary is: 0.25\n",
    "\n",
    "While there is a difference in scores, it is quite minimal.  My reasoning for this being that the word 'thing' was in both the top tokens and lemmas.  'Thing' as a word doesn't really hold much sentimental value.  It can in the right context, but not in this article.  So, even when we find the sentences that have higher token and lemma scores, that can just mean that 'thing' is stated more often.  \n",
    "\n",
    "At the same time, 'good' and 'life' are generally more positive words that are also common in this article.  With these words contending with 'thing,' I believe that is why the summary scores are slightly higher."
   ]
  },
  {
   "cell_type": "markdown",
   "metadata": {},
   "source": [
    "## Question 13."
   ]
  },
  {
   "cell_type": "markdown",
   "metadata": {},
   "source": [
    "13. Based on your reading of the original article, which summary do you think is better (if there's a difference).  Why do you think this might be?"
   ]
  }
 ],
 "metadata": {
  "kernelspec": {
   "display_name": ".venv",
   "language": "python",
   "name": "python3"
  },
  "language_info": {
   "codemirror_mode": {
    "name": "ipython",
    "version": 3
   },
   "file_extension": ".py",
   "mimetype": "text/x-python",
   "name": "python",
   "nbconvert_exporter": "python",
   "pygments_lexer": "ipython3",
   "version": "3.13.1"
  }
 },
 "nbformat": 4,
 "nbformat_minor": 4
}
